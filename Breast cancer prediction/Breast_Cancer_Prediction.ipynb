{
  "cells": [
    {
      "cell_type": "markdown",
      "metadata": {
        "id": "6wI9dEWWops_"
      },
      "source": [
        "**1.** **Importing the required libraries**"
      ]
    },
    {
      "cell_type": "code",
      "execution_count": 6,
      "metadata": {
        "id": "kJ_sM_oyok-o"
      },
      "outputs": [],
      "source": [
        "import numpy as np\n",
        "import pandas as pd\n",
        "import matplotlib.pyplot as plt\n",
        "import seaborn as sns\n",
        "\n",
        "import torch\n",
        "import torch.nn as nn\n",
        "import torch.optim as optim\n",
        "from sklearn.datasets import load_breast_cancer\n",
        "from sklearn.model_selection import train_test_split\n",
        "from sklearn.preprocessing import StandardScaler"
      ]
    },
    {
      "cell_type": "markdown",
      "metadata": {
        "id": "2OGriN4upYOl"
      },
      "source": [
        "**2.** **Checking if GPU is available for PyTorch**"
      ]
    },
    {
      "cell_type": "code",
      "execution_count": 7,
      "metadata": {
        "colab": {
          "base_uri": "https://localhost:8080/"
        },
        "id": "tkVojopOpMN8",
        "outputId": "4127ed33-ae3e-4fbc-d7bc-834f276e2233"
      },
      "outputs": [
        {
          "name": "stdout",
          "output_type": "stream",
          "text": [
            "Using device: cuda\n"
          ]
        }
      ],
      "source": [
        "device=torch.device(\"cuda\" if torch.cuda.is_available() else \"cpu\")\n",
        "print(f\"Using device: {device}\")"
      ]
    },
    {
      "cell_type": "markdown",
      "metadata": {
        "id": "ltXUte-DpwMq"
      },
      "source": [
        "**3.** **Loading the dataset**"
      ]
    },
    {
      "cell_type": "code",
      "execution_count": 8,
      "metadata": {
        "id": "0XuO3td5p6UF"
      },
      "outputs": [],
      "source": [
        "data=load_breast_cancer()\n",
        "X=data.data\n",
        "y=data.target"
      ]
    },
    {
      "cell_type": "markdown",
      "metadata": {
        "id": "SeHMnF5eW1xG"
      },
      "source": [
        "**3.1 Performing exploratory data analysis and feature engineering**"
      ]
    },
    {
      "cell_type": "code",
      "execution_count": 9,
      "metadata": {
        "colab": {
          "base_uri": "https://localhost:8080/"
        },
        "id": "pJRE15-iW1Cc",
        "outputId": "b18347c1-8f04-471d-9423-d2e8d6529fba"
      },
      "outputs": [
        {
          "data": {
            "text/plain": [
              "(569, 30)"
            ]
          },
          "execution_count": 9,
          "metadata": {},
          "output_type": "execute_result"
        }
      ],
      "source": [
        "# Finding out the number of rows and columns that we have\n",
        "X.shape"
      ]
    },
    {
      "cell_type": "code",
      "execution_count": 10,
      "metadata": {
        "colab": {
          "base_uri": "https://localhost:8080/"
        },
        "id": "XxBuB2I_XS4R",
        "outputId": "78c8b738-058f-489f-f2d9-0454d633e5d7"
      },
      "outputs": [
        {
          "name": "stdout",
          "output_type": "stream",
          "text": [
            "<class 'numpy.ndarray'>\n"
          ]
        }
      ],
      "source": [
        "# Checking if any of the columns have missing values\n",
        "print(type(X))"
      ]
    },
    {
      "cell_type": "markdown",
      "metadata": {
        "id": "G4yKIvjFqNJ5"
      },
      "source": [
        "**4. Splitting the data for training and testing**"
      ]
    },
    {
      "cell_type": "code",
      "execution_count": 11,
      "metadata": {
        "id": "uHnhT_A6qS_f"
      },
      "outputs": [],
      "source": [
        "X_train,X_test,y_train,y_test=train_test_split(X,y,test_size=0.2,random_state=42,shuffle=True)"
      ]
    },
    {
      "cell_type": "code",
      "execution_count": 12,
      "metadata": {
        "colab": {
          "base_uri": "https://localhost:8080/"
        },
        "id": "kU5kpf6aqk9T",
        "outputId": "61fb2e73-622f-483e-9630-40247a9a5b93"
      },
      "outputs": [
        {
          "name": "stdout",
          "output_type": "stream",
          "text": [
            "(569, 30)\n",
            "(455, 30)\n",
            "(114, 30)\n"
          ]
        }
      ],
      "source": [
        "print(X.shape)\n",
        "print(X_train.shape)\n",
        "print(X_test.shape)"
      ]
    },
    {
      "cell_type": "markdown",
      "metadata": {
        "id": "xdxIK7SRqtxQ"
      },
      "source": [
        "**5. Scaling the data to ensure normal distribution**"
      ]
    },
    {
      "cell_type": "code",
      "execution_count": 13,
      "metadata": {
        "id": "91hnNSUiq04J"
      },
      "outputs": [],
      "source": [
        "scaler=StandardScaler()\n",
        "X_train=scaler.fit_transform(X_train)\n",
        "X_test=scaler.transform(X_test)"
      ]
    },
    {
      "cell_type": "markdown",
      "metadata": {
        "id": "Q_1Rpz8OrFXf"
      },
      "source": [
        "**6. Converting the entire dataset from Numpy to PyTorch Tensors & moving it to GPU**"
      ]
    },
    {
      "cell_type": "code",
      "execution_count": 14,
      "metadata": {
        "colab": {
          "base_uri": "https://localhost:8080/"
        },
        "id": "HC0NPNTasCIX",
        "outputId": "e8544ae7-2782-4f8e-819d-e3f069705339"
      },
      "outputs": [
        {
          "name": "stdout",
          "output_type": "stream",
          "text": [
            "<class 'numpy.ndarray'>\n"
          ]
        }
      ],
      "source": [
        "print(type(X_train))"
      ]
    },
    {
      "cell_type": "code",
      "execution_count": 15,
      "metadata": {
        "id": "vzr6OkaDrXwk"
      },
      "outputs": [],
      "source": [
        "X_train=torch.tensor(X_train,dtype=torch.float32).to(device)\n",
        "y_train=torch.tensor(y_train,dtype=torch.float32).to(device)\n",
        "X_test=torch.tensor(X_test,dtype=torch.float32).to(device)\n",
        "y_test=torch.tensor(y_test,dtype=torch.float32).to(device)"
      ]
    },
    {
      "cell_type": "markdown",
      "metadata": {
        "id": "9ONhC2g7sS5k"
      },
      "source": [
        "**7. Defining the Neural Network Architecture in PyTorch**"
      ]
    },
    {
      "cell_type": "code",
      "execution_count": 16,
      "metadata": {
        "id": "sorGBe6OsYUu"
      },
      "outputs": [],
      "source": [
        "class NeuralNet(nn.Module):\n",
        "  def __init__(self, input_size,hidden_size,output_size):\n",
        "    super(NeuralNet,self).__init__()\n",
        "    self.fc1=nn.Linear(input_size,hidden_size)\n",
        "    self.relu=nn.ReLU()\n",
        "    self.fc2=nn.Linear(hidden_size,output_size)\n",
        "    self.sigmoid=nn.Sigmoid()\n",
        "\n",
        "  def forward(self,x):\n",
        "    out=self.fc1(x)\n",
        "    out=self.relu(out)\n",
        "    out=self.fc2(out)\n",
        "    out=self.sigmoid(out)\n",
        "    return out\n"
      ]
    },
    {
      "cell_type": "markdown",
      "metadata": {
        "id": "SEKBNxqDtUhv"
      },
      "source": [
        "**8. Defining the hyperparameters**"
      ]
    },
    {
      "cell_type": "code",
      "execution_count": 17,
      "metadata": {
        "id": "Das3VjA7tYZ6"
      },
      "outputs": [],
      "source": [
        "input_size=X_train.shape[1]\n",
        "hidden_size=64\n",
        "output_size=1\n",
        "learning_rate=0.01\n",
        "num_epochs=100"
      ]
    },
    {
      "cell_type": "markdown",
      "metadata": {
        "id": "P8k4vWO0tsUh"
      },
      "source": [
        "**9. Instantiating the PyTorch Model**"
      ]
    },
    {
      "cell_type": "code",
      "execution_count": 18,
      "metadata": {
        "id": "__BJetuztza3"
      },
      "outputs": [],
      "source": [
        "model=NeuralNet(input_size,hidden_size,output_size).to(device)\n",
        "criterion=nn.BCELoss()\n",
        "# it is model.parameters() because the name we have given to our object is 'model'\n",
        "optimizer=optim.Adam(model.parameters(),lr=learning_rate)"
      ]
    },
    {
      "cell_type": "markdown",
      "metadata": {
        "id": "OS8Dnxklulqo"
      },
      "source": [
        "**10. Creating the training loop**"
      ]
    },
    {
      "cell_type": "code",
      "execution_count": 19,
      "metadata": {
        "colab": {
          "base_uri": "https://localhost:8080/"
        },
        "id": "nYA_GaU1uvl6",
        "outputId": "84a3a9bc-54f9-4d80-d6a4-18cb42ea0892"
      },
      "outputs": [
        {
          "name": "stdout",
          "output_type": "stream",
          "text": [
            "Epoch [10/100], Loss: 0.1385, Accuracy: 95.60%\n",
            "Epoch [20/100], Loss: 0.0698, Accuracy: 98.24%\n",
            "Epoch [30/100], Loss: 0.0535, Accuracy: 98.24%\n",
            "Epoch [40/100], Loss: 0.0414, Accuracy: 98.90%\n",
            "Epoch [50/100], Loss: 0.0333, Accuracy: 99.12%\n",
            "Epoch [60/100], Loss: 0.0266, Accuracy: 99.34%\n",
            "Epoch [70/100], Loss: 0.0212, Accuracy: 99.34%\n",
            "Epoch [80/100], Loss: 0.0169, Accuracy: 99.56%\n",
            "Epoch [90/100], Loss: 0.0138, Accuracy: 99.56%\n",
            "Epoch [100/100], Loss: 0.0113, Accuracy: 99.56%\n"
          ]
        }
      ],
      "source": [
        "for epoch in range(num_epochs):\n",
        "  model.train()\n",
        "  # ensure during every iteration the gradients are set to zero before they are calculated again to prevent gradient accumulation\n",
        "  optimizer.zero_grad()\n",
        "  # model(X_train) calls the forward() function in PyTorch model directly\n",
        "  model_output=model(X_train)\n",
        "  # check the shapes of model_output and why you need to use y_train.view() here\n",
        "  loss=criterion(model_output,y_train.view(-1,1))\n",
        "  # calculating the gradients with respect to weights and bias\n",
        "  loss.backward()\n",
        "  # taking the gradient descent step\n",
        "  optimizer.step()\n",
        "\n",
        "\n",
        "  # calculating accuracy\n",
        "\n",
        "  with torch.no_grad():\n",
        "    predicted=model_output.round()\n",
        "    correct=(predicted==y_train.view(-1,1)).float().sum()\n",
        "    accuracy=correct/y_train.size(0)\n",
        "\n",
        "  if (epoch+1)%10 ==0:\n",
        "    print(f\"Epoch [{epoch+1}/{num_epochs}], Loss: {loss.item():.4f}, Accuracy: {accuracy.item() * 100:.2f}%\")\n",
        "\n"
      ]
    },
    {
      "cell_type": "markdown",
      "metadata": {
        "id": "uQYuEg67zZVz"
      },
      "source": [
        "**11. Evaluating on test dataset**"
      ]
    },
    {
      "cell_type": "code",
      "execution_count": 20,
      "metadata": {
        "colab": {
          "base_uri": "https://localhost:8080/"
        },
        "id": "el43pXyezd0b",
        "outputId": "50d5aebc-bdd1-4cdc-b316-e47f6c52f6b9"
      },
      "outputs": [
        {
          "name": "stdout",
          "output_type": "stream",
          "text": [
            "Accuracy on test dataset: 98.25%\n"
          ]
        }
      ],
      "source": [
        "model.eval()\n",
        "with torch.no_grad():\n",
        "  model_output=model(X_test)\n",
        "  predicted=model_output.round()\n",
        "  correct=(predicted == y_test.view(-1,1)).float().sum()\n",
        "  accuracy=correct/y_test.size(0)\n",
        "  print(f\"Accuracy on test dataset: {accuracy.item() * 100:.2f}%\")"
      ]
    }
  ],
  "metadata": {
    "accelerator": "GPU",
    "colab": {
      "gpuType": "T4",
      "provenance": []
    },
    "kernelspec": {
      "display_name": "Python 3",
      "language": "python",
      "name": "python3"
    },
    "language_info": {
      "codemirror_mode": {
        "name": "ipython",
        "version": 3
      },
      "file_extension": ".py",
      "mimetype": "text/x-python",
      "name": "python",
      "nbconvert_exporter": "python",
      "pygments_lexer": "ipython3",
      "version": "3.10.16"
    }
  },
  "nbformat": 4,
  "nbformat_minor": 0
}
